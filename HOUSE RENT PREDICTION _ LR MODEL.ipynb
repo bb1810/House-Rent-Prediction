{
 "cells": [
  {
   "cell_type": "code",
   "execution_count": null,
   "id": "683fc05d",
   "metadata": {},
   "outputs": [],
   "source": [
    "#Importing the liabraries"
   ]
  },
  {
   "cell_type": "code",
   "execution_count": 5,
   "id": "6c80dfe7",
   "metadata": {},
   "outputs": [],
   "source": [
    "import numpy as np\n",
    "import pandas as pd\n",
    "import matplotlib.pyplot as plt\n",
    "import seaborn as sns\n",
    "import statsmodels.api as sm\n",
    "import scipy\n",
    "import os"
   ]
  },
  {
   "cell_type": "code",
   "execution_count": 6,
   "id": "20f14643",
   "metadata": {},
   "outputs": [],
   "source": [
    "###Importing the sample dataset"
   ]
  },
  {
   "cell_type": "code",
   "execution_count": 169,
   "id": "ab8c9944",
   "metadata": {},
   "outputs": [
    {
     "data": {
      "text/html": [
       "<div>\n",
       "<style scoped>\n",
       "    .dataframe tbody tr th:only-of-type {\n",
       "        vertical-align: middle;\n",
       "    }\n",
       "\n",
       "    .dataframe tbody tr th {\n",
       "        vertical-align: top;\n",
       "    }\n",
       "\n",
       "    .dataframe thead th {\n",
       "        text-align: right;\n",
       "    }\n",
       "</style>\n",
       "<table border=\"1\" class=\"dataframe\">\n",
       "  <thead>\n",
       "    <tr style=\"text-align: right;\">\n",
       "      <th></th>\n",
       "      <th>Posted On</th>\n",
       "      <th>BHK</th>\n",
       "      <th>Rent</th>\n",
       "      <th>Size</th>\n",
       "      <th>Floor</th>\n",
       "      <th>Area Type</th>\n",
       "      <th>Area Locality</th>\n",
       "      <th>City</th>\n",
       "      <th>Furnishing Status</th>\n",
       "      <th>Tenant Preferred</th>\n",
       "      <th>Bathroom</th>\n",
       "      <th>Point of Contact</th>\n",
       "    </tr>\n",
       "  </thead>\n",
       "  <tbody>\n",
       "    <tr>\n",
       "      <th>count</th>\n",
       "      <td>4746</td>\n",
       "      <td>4746.000000</td>\n",
       "      <td>4.746000e+03</td>\n",
       "      <td>4746.000000</td>\n",
       "      <td>4746</td>\n",
       "      <td>4746</td>\n",
       "      <td>4746</td>\n",
       "      <td>4746</td>\n",
       "      <td>4746</td>\n",
       "      <td>4746</td>\n",
       "      <td>4746.000000</td>\n",
       "      <td>4746</td>\n",
       "    </tr>\n",
       "    <tr>\n",
       "      <th>unique</th>\n",
       "      <td>81</td>\n",
       "      <td>NaN</td>\n",
       "      <td>NaN</td>\n",
       "      <td>NaN</td>\n",
       "      <td>480</td>\n",
       "      <td>3</td>\n",
       "      <td>2235</td>\n",
       "      <td>6</td>\n",
       "      <td>3</td>\n",
       "      <td>3</td>\n",
       "      <td>NaN</td>\n",
       "      <td>3</td>\n",
       "    </tr>\n",
       "    <tr>\n",
       "      <th>top</th>\n",
       "      <td>2022-07-06</td>\n",
       "      <td>NaN</td>\n",
       "      <td>NaN</td>\n",
       "      <td>NaN</td>\n",
       "      <td>1 out of 2</td>\n",
       "      <td>Super Area</td>\n",
       "      <td>Bandra West</td>\n",
       "      <td>Mumbai</td>\n",
       "      <td>Semi-Furnished</td>\n",
       "      <td>Bachelors/Family</td>\n",
       "      <td>NaN</td>\n",
       "      <td>Contact Owner</td>\n",
       "    </tr>\n",
       "    <tr>\n",
       "      <th>freq</th>\n",
       "      <td>311</td>\n",
       "      <td>NaN</td>\n",
       "      <td>NaN</td>\n",
       "      <td>NaN</td>\n",
       "      <td>379</td>\n",
       "      <td>2446</td>\n",
       "      <td>37</td>\n",
       "      <td>972</td>\n",
       "      <td>2251</td>\n",
       "      <td>3444</td>\n",
       "      <td>NaN</td>\n",
       "      <td>3216</td>\n",
       "    </tr>\n",
       "    <tr>\n",
       "      <th>mean</th>\n",
       "      <td>NaN</td>\n",
       "      <td>2.083860</td>\n",
       "      <td>3.499345e+04</td>\n",
       "      <td>967.490729</td>\n",
       "      <td>NaN</td>\n",
       "      <td>NaN</td>\n",
       "      <td>NaN</td>\n",
       "      <td>NaN</td>\n",
       "      <td>NaN</td>\n",
       "      <td>NaN</td>\n",
       "      <td>1.965866</td>\n",
       "      <td>NaN</td>\n",
       "    </tr>\n",
       "    <tr>\n",
       "      <th>std</th>\n",
       "      <td>NaN</td>\n",
       "      <td>0.832256</td>\n",
       "      <td>7.810641e+04</td>\n",
       "      <td>634.202328</td>\n",
       "      <td>NaN</td>\n",
       "      <td>NaN</td>\n",
       "      <td>NaN</td>\n",
       "      <td>NaN</td>\n",
       "      <td>NaN</td>\n",
       "      <td>NaN</td>\n",
       "      <td>0.884532</td>\n",
       "      <td>NaN</td>\n",
       "    </tr>\n",
       "    <tr>\n",
       "      <th>min</th>\n",
       "      <td>NaN</td>\n",
       "      <td>1.000000</td>\n",
       "      <td>1.200000e+03</td>\n",
       "      <td>10.000000</td>\n",
       "      <td>NaN</td>\n",
       "      <td>NaN</td>\n",
       "      <td>NaN</td>\n",
       "      <td>NaN</td>\n",
       "      <td>NaN</td>\n",
       "      <td>NaN</td>\n",
       "      <td>1.000000</td>\n",
       "      <td>NaN</td>\n",
       "    </tr>\n",
       "    <tr>\n",
       "      <th>25%</th>\n",
       "      <td>NaN</td>\n",
       "      <td>2.000000</td>\n",
       "      <td>1.000000e+04</td>\n",
       "      <td>550.000000</td>\n",
       "      <td>NaN</td>\n",
       "      <td>NaN</td>\n",
       "      <td>NaN</td>\n",
       "      <td>NaN</td>\n",
       "      <td>NaN</td>\n",
       "      <td>NaN</td>\n",
       "      <td>1.000000</td>\n",
       "      <td>NaN</td>\n",
       "    </tr>\n",
       "    <tr>\n",
       "      <th>50%</th>\n",
       "      <td>NaN</td>\n",
       "      <td>2.000000</td>\n",
       "      <td>1.600000e+04</td>\n",
       "      <td>850.000000</td>\n",
       "      <td>NaN</td>\n",
       "      <td>NaN</td>\n",
       "      <td>NaN</td>\n",
       "      <td>NaN</td>\n",
       "      <td>NaN</td>\n",
       "      <td>NaN</td>\n",
       "      <td>2.000000</td>\n",
       "      <td>NaN</td>\n",
       "    </tr>\n",
       "    <tr>\n",
       "      <th>75%</th>\n",
       "      <td>NaN</td>\n",
       "      <td>3.000000</td>\n",
       "      <td>3.300000e+04</td>\n",
       "      <td>1200.000000</td>\n",
       "      <td>NaN</td>\n",
       "      <td>NaN</td>\n",
       "      <td>NaN</td>\n",
       "      <td>NaN</td>\n",
       "      <td>NaN</td>\n",
       "      <td>NaN</td>\n",
       "      <td>2.000000</td>\n",
       "      <td>NaN</td>\n",
       "    </tr>\n",
       "    <tr>\n",
       "      <th>max</th>\n",
       "      <td>NaN</td>\n",
       "      <td>6.000000</td>\n",
       "      <td>3.500000e+06</td>\n",
       "      <td>8000.000000</td>\n",
       "      <td>NaN</td>\n",
       "      <td>NaN</td>\n",
       "      <td>NaN</td>\n",
       "      <td>NaN</td>\n",
       "      <td>NaN</td>\n",
       "      <td>NaN</td>\n",
       "      <td>10.000000</td>\n",
       "      <td>NaN</td>\n",
       "    </tr>\n",
       "  </tbody>\n",
       "</table>\n",
       "</div>"
      ],
      "text/plain": [
       "         Posted On          BHK          Rent         Size       Floor  \\\n",
       "count         4746  4746.000000  4.746000e+03  4746.000000        4746   \n",
       "unique          81          NaN           NaN          NaN         480   \n",
       "top     2022-07-06          NaN           NaN          NaN  1 out of 2   \n",
       "freq           311          NaN           NaN          NaN         379   \n",
       "mean           NaN     2.083860  3.499345e+04   967.490729         NaN   \n",
       "std            NaN     0.832256  7.810641e+04   634.202328         NaN   \n",
       "min            NaN     1.000000  1.200000e+03    10.000000         NaN   \n",
       "25%            NaN     2.000000  1.000000e+04   550.000000         NaN   \n",
       "50%            NaN     2.000000  1.600000e+04   850.000000         NaN   \n",
       "75%            NaN     3.000000  3.300000e+04  1200.000000         NaN   \n",
       "max            NaN     6.000000  3.500000e+06  8000.000000         NaN   \n",
       "\n",
       "         Area Type Area Locality    City Furnishing Status  Tenant Preferred  \\\n",
       "count         4746          4746    4746              4746              4746   \n",
       "unique           3          2235       6                 3                 3   \n",
       "top     Super Area   Bandra West  Mumbai    Semi-Furnished  Bachelors/Family   \n",
       "freq          2446            37     972              2251              3444   \n",
       "mean           NaN           NaN     NaN               NaN               NaN   \n",
       "std            NaN           NaN     NaN               NaN               NaN   \n",
       "min            NaN           NaN     NaN               NaN               NaN   \n",
       "25%            NaN           NaN     NaN               NaN               NaN   \n",
       "50%            NaN           NaN     NaN               NaN               NaN   \n",
       "75%            NaN           NaN     NaN               NaN               NaN   \n",
       "max            NaN           NaN     NaN               NaN               NaN   \n",
       "\n",
       "           Bathroom Point of Contact  \n",
       "count   4746.000000             4746  \n",
       "unique          NaN                3  \n",
       "top             NaN    Contact Owner  \n",
       "freq            NaN             3216  \n",
       "mean       1.965866              NaN  \n",
       "std        0.884532              NaN  \n",
       "min        1.000000              NaN  \n",
       "25%        1.000000              NaN  \n",
       "50%        2.000000              NaN  \n",
       "75%        2.000000              NaN  \n",
       "max       10.000000              NaN  "
      ]
     },
     "execution_count": 169,
     "metadata": {},
     "output_type": "execute_result"
    }
   ],
   "source": [
    "os.chdir(r'C:\\Users\\Al barak\\Desktop\\ml project\\Regression Project _Indian House rent prediction')\n",
    "data = pd.read_csv(\"House_Rent_Dataset.csv\")\n",
    "\n",
    "#making copy of original datset\n",
    "data1 = data.copy()\n",
    "\n",
    "#scanning the dataset using descriptive statistics\n",
    "data1.describe(include= \"all\")"
   ]
  },
  {
   "cell_type": "code",
   "execution_count": 54,
   "id": "9851ae9e",
   "metadata": {},
   "outputs": [],
   "source": [
    "#Separting Dependent(y) and Independent variables(X)\n",
    "X = data1.drop([\"Rent\"],axis=1)\n",
    "y = data1.Rent"
   ]
  },
  {
   "cell_type": "code",
   "execution_count": 55,
   "id": "1bd7318f",
   "metadata": {},
   "outputs": [],
   "source": [
    "## Splitting data into Train ,Validation and Test"
   ]
  },
  {
   "cell_type": "code",
   "execution_count": 56,
   "id": "49c45269",
   "metadata": {},
   "outputs": [],
   "source": [
    "#importing library to split data\n",
    "from sklearn.model_selection import train_test_split"
   ]
  },
  {
   "cell_type": "code",
   "execution_count": 57,
   "id": "38f98b6a",
   "metadata": {},
   "outputs": [],
   "source": [
    "#Based on the size of the dataset we roughly decide the split ratio which is not subjective,lets make a 70:30 split\n",
    "X_train,X_test,y_train,y_test = train_test_split(X,y,test_size=0.3,random_state =42)"
   ]
  },
  {
   "cell_type": "code",
   "execution_count": 58,
   "id": "b0a954ea",
   "metadata": {},
   "outputs": [],
   "source": [
    "#From the train data now we can split the validation data which can be used to validate the trained model over this data.\n",
    "#The test data kept under complete darkness for final testing of the model.\n",
    "#here we are again making 70:30 split,which is 30% of 70% which is 0.43\n",
    "X_train,X_valid,y_train,y_valid = train_test_split(X_train,y_train,test_size=0.43,random_state=42) "
   ]
  },
  {
   "cell_type": "code",
   "execution_count": null,
   "id": "b6c9abed",
   "metadata": {},
   "outputs": [],
   "source": [
    "## EXPLORATORY DATA ANALYSIS"
   ]
  },
  {
   "cell_type": "code",
   "execution_count": 60,
   "id": "0104d793",
   "metadata": {},
   "outputs": [
    {
     "data": {
      "text/html": [
       "<div>\n",
       "<style scoped>\n",
       "    .dataframe tbody tr th:only-of-type {\n",
       "        vertical-align: middle;\n",
       "    }\n",
       "\n",
       "    .dataframe tbody tr th {\n",
       "        vertical-align: top;\n",
       "    }\n",
       "\n",
       "    .dataframe thead th {\n",
       "        text-align: right;\n",
       "    }\n",
       "</style>\n",
       "<table border=\"1\" class=\"dataframe\">\n",
       "  <thead>\n",
       "    <tr style=\"text-align: right;\">\n",
       "      <th></th>\n",
       "      <th>BHK</th>\n",
       "      <th>Size</th>\n",
       "      <th>Bathroom</th>\n",
       "    </tr>\n",
       "  </thead>\n",
       "  <tbody>\n",
       "    <tr>\n",
       "      <th>count</th>\n",
       "      <td>1893.000000</td>\n",
       "      <td>1893.000000</td>\n",
       "      <td>1893.000000</td>\n",
       "    </tr>\n",
       "    <tr>\n",
       "      <th>mean</th>\n",
       "      <td>2.063920</td>\n",
       "      <td>939.358690</td>\n",
       "      <td>1.941363</td>\n",
       "    </tr>\n",
       "    <tr>\n",
       "      <th>std</th>\n",
       "      <td>0.845103</td>\n",
       "      <td>612.137617</td>\n",
       "      <td>0.869525</td>\n",
       "    </tr>\n",
       "    <tr>\n",
       "      <th>min</th>\n",
       "      <td>1.000000</td>\n",
       "      <td>10.000000</td>\n",
       "      <td>1.000000</td>\n",
       "    </tr>\n",
       "    <tr>\n",
       "      <th>25%</th>\n",
       "      <td>1.000000</td>\n",
       "      <td>550.000000</td>\n",
       "      <td>1.000000</td>\n",
       "    </tr>\n",
       "    <tr>\n",
       "      <th>50%</th>\n",
       "      <td>2.000000</td>\n",
       "      <td>800.000000</td>\n",
       "      <td>2.000000</td>\n",
       "    </tr>\n",
       "    <tr>\n",
       "      <th>75%</th>\n",
       "      <td>3.000000</td>\n",
       "      <td>1200.000000</td>\n",
       "      <td>2.000000</td>\n",
       "    </tr>\n",
       "    <tr>\n",
       "      <th>max</th>\n",
       "      <td>6.000000</td>\n",
       "      <td>4761.000000</td>\n",
       "      <td>7.000000</td>\n",
       "    </tr>\n",
       "  </tbody>\n",
       "</table>\n",
       "</div>"
      ],
      "text/plain": [
       "               BHK         Size     Bathroom\n",
       "count  1893.000000  1893.000000  1893.000000\n",
       "mean      2.063920   939.358690     1.941363\n",
       "std       0.845103   612.137617     0.869525\n",
       "min       1.000000    10.000000     1.000000\n",
       "25%       1.000000   550.000000     1.000000\n",
       "50%       2.000000   800.000000     2.000000\n",
       "75%       3.000000  1200.000000     2.000000\n",
       "max       6.000000  4761.000000     7.000000"
      ]
     },
     "execution_count": 60,
     "metadata": {},
     "output_type": "execute_result"
    }
   ],
   "source": [
    "# To avoid biasness in EDA is made even before cleaning \n",
    "X_train.describe()"
   ]
  },
  {
   "cell_type": "code",
   "execution_count": 62,
   "id": "844e7d73",
   "metadata": {},
   "outputs": [
    {
     "name": "stdout",
     "output_type": "stream",
     "text": [
      "<class 'pandas.core.frame.DataFrame'>\n",
      "Int64Index: 1893 entries, 2374 to 3581\n",
      "Data columns (total 11 columns):\n",
      " #   Column             Non-Null Count  Dtype \n",
      "---  ------             --------------  ----- \n",
      " 0   Posted On          1893 non-null   object\n",
      " 1   BHK                1893 non-null   int64 \n",
      " 2   Size               1893 non-null   int64 \n",
      " 3   Floor              1893 non-null   object\n",
      " 4   Area Type          1893 non-null   object\n",
      " 5   Area Locality      1893 non-null   object\n",
      " 6   City               1893 non-null   object\n",
      " 7   Furnishing Status  1893 non-null   object\n",
      " 8   Tenant Preferred   1893 non-null   object\n",
      " 9   Bathroom           1893 non-null   int64 \n",
      " 10  Point of Contact   1893 non-null   object\n",
      "dtypes: int64(3), object(8)\n",
      "memory usage: 177.5+ KB\n"
     ]
    }
   ],
   "source": [
    "X_train.info()"
   ]
  },
  {
   "cell_type": "code",
   "execution_count": null,
   "id": "a691910b",
   "metadata": {},
   "outputs": [],
   "source": []
  },
  {
   "cell_type": "code",
   "execution_count": 63,
   "id": "b7ec1023",
   "metadata": {},
   "outputs": [],
   "source": []
  },
  {
   "cell_type": "code",
   "execution_count": 94,
   "id": "915814b9",
   "metadata": {},
   "outputs": [],
   "source": [
    "# Bivariate analysis on training dataset to understand the data better and to have preliminary insights from the data"
   ]
  },
  {
   "cell_type": "code",
   "execution_count": 95,
   "id": "e7900d9b",
   "metadata": {},
   "outputs": [
    {
     "data": {
      "text/html": [
       "<div>\n",
       "<style scoped>\n",
       "    .dataframe tbody tr th:only-of-type {\n",
       "        vertical-align: middle;\n",
       "    }\n",
       "\n",
       "    .dataframe tbody tr th {\n",
       "        vertical-align: top;\n",
       "    }\n",
       "\n",
       "    .dataframe thead th {\n",
       "        text-align: right;\n",
       "    }\n",
       "</style>\n",
       "<table border=\"1\" class=\"dataframe\">\n",
       "  <thead>\n",
       "    <tr style=\"text-align: right;\">\n",
       "      <th></th>\n",
       "      <th>Posted On</th>\n",
       "      <th>BHK</th>\n",
       "      <th>Size</th>\n",
       "      <th>Floor</th>\n",
       "      <th>Area Type</th>\n",
       "      <th>Area Locality</th>\n",
       "      <th>City</th>\n",
       "      <th>Furnishing Status</th>\n",
       "      <th>Tenant Preferred</th>\n",
       "      <th>Bathroom</th>\n",
       "      <th>Point of Contact</th>\n",
       "      <th>Rent</th>\n",
       "    </tr>\n",
       "  </thead>\n",
       "  <tbody>\n",
       "    <tr>\n",
       "      <th>2374</th>\n",
       "      <td>2022-05-15</td>\n",
       "      <td>3</td>\n",
       "      <td>1200</td>\n",
       "      <td>1 out of 4</td>\n",
       "      <td>Carpet Area</td>\n",
       "      <td>Gubbalala, Subramanyapura</td>\n",
       "      <td>Bangalore</td>\n",
       "      <td>Unfurnished</td>\n",
       "      <td>Bachelors</td>\n",
       "      <td>3</td>\n",
       "      <td>Contact Owner</td>\n",
       "      <td>16000</td>\n",
       "    </tr>\n",
       "    <tr>\n",
       "      <th>3501</th>\n",
       "      <td>2022-06-06</td>\n",
       "      <td>2</td>\n",
       "      <td>803</td>\n",
       "      <td>1 out of 2</td>\n",
       "      <td>Super Area</td>\n",
       "      <td>Moulivakkam, Moulivakkam</td>\n",
       "      <td>Chennai</td>\n",
       "      <td>Semi-Furnished</td>\n",
       "      <td>Bachelors/Family</td>\n",
       "      <td>2</td>\n",
       "      <td>Contact Owner</td>\n",
       "      <td>11000</td>\n",
       "    </tr>\n",
       "    <tr>\n",
       "      <th>4682</th>\n",
       "      <td>2022-05-12</td>\n",
       "      <td>2</td>\n",
       "      <td>1150</td>\n",
       "      <td>4 out of 5</td>\n",
       "      <td>Super Area</td>\n",
       "      <td>Miyapur, NH 9</td>\n",
       "      <td>Hyderabad</td>\n",
       "      <td>Semi-Furnished</td>\n",
       "      <td>Bachelors/Family</td>\n",
       "      <td>2</td>\n",
       "      <td>Contact Owner</td>\n",
       "      <td>18000</td>\n",
       "    </tr>\n",
       "    <tr>\n",
       "      <th>4291</th>\n",
       "      <td>2022-06-14</td>\n",
       "      <td>2</td>\n",
       "      <td>60</td>\n",
       "      <td>1 out of 6</td>\n",
       "      <td>Super Area</td>\n",
       "      <td>Model Town Colony, Nawab Saheb Kunta</td>\n",
       "      <td>Hyderabad</td>\n",
       "      <td>Unfurnished</td>\n",
       "      <td>Bachelors/Family</td>\n",
       "      <td>2</td>\n",
       "      <td>Contact Owner</td>\n",
       "      <td>7000</td>\n",
       "    </tr>\n",
       "    <tr>\n",
       "      <th>4030</th>\n",
       "      <td>2022-07-02</td>\n",
       "      <td>3</td>\n",
       "      <td>1956</td>\n",
       "      <td>1 out of 9</td>\n",
       "      <td>Super Area</td>\n",
       "      <td>Miyapur, NH 9</td>\n",
       "      <td>Hyderabad</td>\n",
       "      <td>Semi-Furnished</td>\n",
       "      <td>Bachelors</td>\n",
       "      <td>3</td>\n",
       "      <td>Contact Owner</td>\n",
       "      <td>35000</td>\n",
       "    </tr>\n",
       "  </tbody>\n",
       "</table>\n",
       "</div>"
      ],
      "text/plain": [
       "       Posted On  BHK  Size       Floor    Area Type  \\\n",
       "2374  2022-05-15    3  1200  1 out of 4  Carpet Area   \n",
       "3501  2022-06-06    2   803  1 out of 2   Super Area   \n",
       "4682  2022-05-12    2  1150  4 out of 5   Super Area   \n",
       "4291  2022-06-14    2    60  1 out of 6   Super Area   \n",
       "4030  2022-07-02    3  1956  1 out of 9   Super Area   \n",
       "\n",
       "                             Area Locality       City Furnishing Status  \\\n",
       "2374             Gubbalala, Subramanyapura  Bangalore       Unfurnished   \n",
       "3501              Moulivakkam, Moulivakkam    Chennai    Semi-Furnished   \n",
       "4682                         Miyapur, NH 9  Hyderabad    Semi-Furnished   \n",
       "4291  Model Town Colony, Nawab Saheb Kunta  Hyderabad       Unfurnished   \n",
       "4030                         Miyapur, NH 9  Hyderabad    Semi-Furnished   \n",
       "\n",
       "      Tenant Preferred  Bathroom Point of Contact   Rent  \n",
       "2374         Bachelors         3    Contact Owner  16000  \n",
       "3501  Bachelors/Family         2    Contact Owner  11000  \n",
       "4682  Bachelors/Family         2    Contact Owner  18000  \n",
       "4291  Bachelors/Family         2    Contact Owner   7000  \n",
       "4030         Bachelors         3    Contact Owner  35000  "
      ]
     },
     "execution_count": 95,
     "metadata": {},
     "output_type": "execute_result"
    }
   ],
   "source": [
    "#combining Xtrain&ytrain into dataframe for easiness\n",
    "train_y_data = pd.DataFrame(y_train)\n",
    "traindata_Xy = pd.concat([X_train, train_y_data], axis=1, join=\"inner\")\n",
    "traindata_Xy.head()"
   ]
  },
  {
   "cell_type": "code",
   "execution_count": null,
   "id": "0476340f",
   "metadata": {},
   "outputs": [],
   "source": [
    "## categorical variables vs Target variable"
   ]
  },
  {
   "cell_type": "code",
   "execution_count": 116,
   "id": "369f6512",
   "metadata": {},
   "outputs": [
    {
     "data": {
      "image/png": "[encoded data removed]",
      "text/plain": [
       "<Figure size 432x216 with 1 Axes>"
      ]
     },
     "metadata": {
      "needs_background": "light"
     },
     "output_type": "display_data"
    }
   ],
   "source": [
    "# BHK vs Rent\n",
    "traindata_Xy.groupby(['BHK'])['Rent'].mean().plot(kind='bar',figsize=(6,3),color=\"blue\",fontsize=10,edgecolor=\"Black\")\n",
    "plt.xlabel('BHK',fontsize=12)\n",
    "plt.ylabel('Avg Rent',fontsize=12)\n",
    "plt.title('Average Rent vs BHK',fontsize=14)\n",
    "plt.show()\n",
    "# Under our analysis,5BHK houses has the highest average rental price."
   ]
  },
  {
   "cell_type": "code",
   "execution_count": 125,
   "id": "10a7ab8a",
   "metadata": {},
   "outputs": [
    {
     "name": "stderr",
     "output_type": "stream",
     "text": [
      "C:\\Anaconda\\lib\\site-packages\\seaborn\\_decorators.py:36: FutureWarning: Pass the following variable as a keyword arg: x. From version 0.12, the only valid positional argument will be `data`, and passing other arguments without an explicit keyword will result in an error or misinterpretation.\n",
      "  warnings.warn(\n"
     ]
    },
    {
     "data": {
      "image/png": "[encoded data removed]",
      "text/plain": [
       "<Figure size 432x216 with 1 Axes>"
      ]
     },
     "metadata": {
      "needs_background": "light"
     },
     "output_type": "display_data"
    }
   ],
   "source": [
    "#BHK\n",
    "plt.figure(figsize=(6,3))\n",
    "sns.countplot(traindata_Xy['BHK'],data = traindata_Xy, palette='hls')\n",
    "plt.xticks(rotation = 90)\n",
    "plt.show()\n",
    "#Number of 2BHK houses are higher in our dataset."
   ]
  },
  {
   "cell_type": "code",
   "execution_count": 159,
   "id": "51cd170f",
   "metadata": {},
   "outputs": [
    {
     "data": {
      "text/plain": [
       "Text(0.5, 1.0, 'Average Rent vs Area Type')"
      ]
     },
     "execution_count": 159,
     "metadata": {},
     "output_type": "execute_result"
    },
    {
     "data": {
      "image/png": "[encoded data removed]",
      "text/plain": [
       "<Figure size 432x216 with 1 Axes>"
      ]
     },
     "metadata": {
      "needs_background": "light"
     },
     "output_type": "display_data"
    }
   ],
   "source": [
    "# Area type vs Rent\n",
    "traindata_Xy.groupby(['Area Type'])['Rent'].mean().plot(kind='bar',figsize=(6,3),color=\"blue\",fontsize=10,edgecolor=\"Black\")\n",
    "plt.xlabel('Area Type',fontsize=12)\n",
    "plt.ylabel('Avg Rent',fontsize=12)\n",
    "plt.title('Average Rent vs Area Type',fontsize=14)\n",
    "# Under our analysis,Carpet Area Houses has higher average rental price."
   ]
  },
  {
   "cell_type": "code",
   "execution_count": 164,
   "id": "27f1700e",
   "metadata": {
    "scrolled": true
   },
   "outputs": [
    {
     "data": {
      "image/png": "[encoded data removed]",
      "text/plain": [
       "<Figure size 432x216 with 1 Axes>"
      ]
     },
     "metadata": {
      "needs_background": "light"
     },
     "output_type": "display_data"
    }
   ],
   "source": [
    "#Area Type\n",
    "traindata_Xy[\"Area Type\"].value_counts().plot(kind='bar',figsize=(6,3),color=\"blue\",fontsize=10,edgecolor=\"black\")\n",
    "plt.xlabel('Area Type',fontsize=12)\n",
    "plt.ylabel('Count',fontsize=12)\n",
    "plt.title('Count ',fontsize=14)\n",
    "plt.show()"
   ]
  },
  {
   "cell_type": "code",
   "execution_count": null,
   "id": "57c12efd",
   "metadata": {},
   "outputs": [],
   "source": [
    "df[['First','Last']] = df.Name.str.split(\"_\",expand=True)"
   ]
  },
  {
   "cell_type": "code",
   "execution_count": null,
   "id": "1b6c3932",
   "metadata": {},
   "outputs": [],
   "source": [
    "# Furnished status vs Rent\n",
    "\n"
   ]
  },
  {
   "cell_type": "code",
   "execution_count": null,
   "id": "66b4be5f",
   "metadata": {},
   "outputs": [],
   "source": [
    "#Furnished status"
   ]
  },
  {
   "cell_type": "code",
   "execution_count": null,
   "id": "35d70c7b",
   "metadata": {},
   "outputs": [],
   "source": [
    "# Point of contact vs Rent\n",
    "\n",
    "\n"
   ]
  },
  {
   "cell_type": "code",
   "execution_count": null,
   "id": "33fb701e",
   "metadata": {},
   "outputs": [],
   "source": [
    "#Point of contact"
   ]
  },
  {
   "cell_type": "code",
   "execution_count": null,
   "id": "9678d593",
   "metadata": {},
   "outputs": [],
   "source": []
  },
  {
   "cell_type": "code",
   "execution_count": null,
   "id": "19e23661",
   "metadata": {},
   "outputs": [],
   "source": []
  },
  {
   "cell_type": "code",
   "execution_count": null,
   "id": "2f18d821",
   "metadata": {},
   "outputs": [],
   "source": []
  },
  {
   "cell_type": "code",
   "execution_count": null,
   "id": "d842ff45",
   "metadata": {},
   "outputs": [],
   "source": [
    "# Numerical Variable vs Target Variable"
   ]
  },
  {
   "cell_type": "code",
   "execution_count": 132,
   "id": "f0dbda56",
   "metadata": {},
   "outputs": [
    {
     "data": {
      "text/plain": [
       "<AxesSubplot:xlabel='Size', ylabel='Rent'>"
      ]
     },
     "execution_count": 132,
     "metadata": {},
     "output_type": "execute_result"
    },
    {
     "data": {
      "image/png": "[encoded data removed]",
      "text/plain": [
       "<Figure size 432x288 with 1 Axes>"
      ]
     },
     "metadata": {
      "needs_background": "light"
     },
     "output_type": "display_data"
    }
   ],
   "source": [
    "#Size vs Rent\n",
    "sns.scatterplot(data=traindata_Xy, x=\"Size\", y=\"Rent\")\n",
    "# We can see a rough positive linear relationship between size and price.(i.e) when the size increases the price increases."
   ]
  },
  {
   "cell_type": "code",
   "execution_count": null,
   "id": "477bfee4",
   "metadata": {},
   "outputs": [],
   "source": [
    "## MULTIVARIATE ANALYSIS"
   ]
  },
  {
   "cell_type": "code",
   "execution_count": 168,
   "id": "2418377b",
   "metadata": {},
   "outputs": [
    {
     "data": {
      "text/plain": [
       "Index(['Posted On', 'BHK', 'Size', 'Floor', 'Area Type', 'Area Locality',\n",
       "       'City', 'Furnishing Status', 'Tenant Preferred', 'Bathroom',\n",
       "       'Point of Contact', 'Rent'],\n",
       "      dtype='object')"
      ]
     },
     "execution_count": 168,
     "metadata": {},
     "output_type": "execute_result"
    }
   ],
   "source": [
    "traindata_Xy.columns"
   ]
  },
  {
   "cell_type": "code",
   "execution_count": null,
   "id": "a3a8f2fd",
   "metadata": {},
   "outputs": [],
   "source": [
    "#City vs Size vs Rent"
   ]
  },
  {
   "cell_type": "code",
   "execution_count": null,
   "id": "e78ece63",
   "metadata": {},
   "outputs": [],
   "source": [
    "#City vs BHK vs Rent"
   ]
  },
  {
   "cell_type": "code",
   "execution_count": null,
   "id": "7f2e8129",
   "metadata": {},
   "outputs": [],
   "source": [
    "#BHK vs Bathroom vs Rent"
   ]
  },
  {
   "cell_type": "code",
   "execution_count": null,
   "id": "d8fbc61d",
   "metadata": {},
   "outputs": [],
   "source": [
    "#Floor vs Total Floor vs Rent"
   ]
  },
  {
   "cell_type": "code",
   "execution_count": null,
   "id": "dbfa6fb4",
   "metadata": {},
   "outputs": [],
   "source": []
  },
  {
   "cell_type": "code",
   "execution_count": null,
   "id": "ef37e8dc",
   "metadata": {},
   "outputs": [],
   "source": []
  },
  {
   "cell_type": "code",
   "execution_count": null,
   "id": "59c68e0f",
   "metadata": {},
   "outputs": [],
   "source": []
  },
  {
   "cell_type": "markdown",
   "id": "8bc380db",
   "metadata": {},
   "source": [
    "--------------------------------------------------------------------------------------------------------------------------------"
   ]
  },
  {
   "cell_type": "code",
   "execution_count": null,
   "id": "1c9a8021",
   "metadata": {},
   "outputs": [],
   "source": [
    "## DATA CLEANING"
   ]
  },
  {
   "cell_type": "code",
   "execution_count": null,
   "id": "a819e7ee",
   "metadata": {},
   "outputs": [],
   "source": [
    "# Our dataset doesnot contain any missing entries,if found there should appropraitely dealt with the help of central tendencies(mean,median,mode)\n",
    "# if the data is normally distributed(continuous numerical),empty cells can be filled by mean,if the data is skewed it can filled by median,if its categorical then by mode.\n",
    "# if the target value is missing ,its appropriate to remove that record/row.\n",
    "# if the number of missing values  are higher in a series/column, its better to drop that column."
   ]
  },
  {
   "cell_type": "code",
   "execution_count": null,
   "id": "24c21592",
   "metadata": {},
   "outputs": [],
   "source": [
    "# Remove duplicates from data\n",
    "data1.drop_duplicates(keep=False, inplace=True)"
   ]
  }
 ],
 "metadata": {
  "kernelspec": {
   "display_name": "Python 3 (ipykernel)",
   "language": "python",
   "name": "python3"
  },
  "language_info": {
   "codemirror_mode": {
    "name": "ipython",
    "version": 3
   },
   "file_extension": ".py",
   "mimetype": "text/x-python",
   "name": "python",
   "nbconvert_exporter": "python",
   "pygments_lexer": "ipython3",
   "version": "3.9.12"
  }
 },
 "nbformat": 4,
 "nbformat_minor": 5
}
